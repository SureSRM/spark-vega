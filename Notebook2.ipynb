{
 "cells": [
  {
   "cell_type": "code",
   "execution_count": 1,
   "metadata": {},
   "outputs": [
    {
     "data": {
      "text/plain": [
       "[('', 18659),\n",
       " ('approach', 5060),\n",
       " ('taxi', 129),\n",
       " ('climb', 2161),\n",
       " ('unknown', 1110),\n",
       " ('other', 122),\n",
       " ('takeoff', 6051),\n",
       " ('maneuvering', 7181),\n",
       " ('descent', 1405),\n",
       " ('standing', 248),\n",
       " ('landing', 706),\n",
       " ('cruise', 7474),\n",
       " ('go-around', 866)]"
      ]
     },
     "execution_count": 1,
     "metadata": {},
     "output_type": "execute_result"
    }
   ],
   "source": [
    "phase = sc.textFile(\"./AviationData.txt\") \\\n",
    "            .map(lambda line: line.split(\" | \")) \\\n",
    "            .filter(lambda line: line[0]!='Event Id') \\\n",
    "            .map(lambda line: (line[0], line[28].lower())) \\\n",
    "\n",
    "\n",
    "deaths = sc.textFile(\"./AviationData.txt\") \\\n",
    "            .map(lambda line: line.split(\" | \")) \\\n",
    "            .filter(lambda line: line[0]!='Event Id') \\\n",
    "            .map(lambda line: (line[0], line[23])) \\\n",
    "\n",
    "\n",
    "result = phase.join(deaths) \\\n",
    "            .map(lambda line: (line[1][0], line[1][1])) \\\n",
    "            .reduceByKey(lambda a, b: int(a or 0)+int(b or 0)) \\\n",
    "\n",
    "spark_data = result.collect()\n",
    "spark_data"
   ]
  },
  {
   "cell_type": "code",
   "execution_count": 2,
   "metadata": {},
   "outputs": [
    {
     "data": {
      "text/html": [
       "<div>\n",
       "<style scoped>\n",
       "    .dataframe tbody tr th:only-of-type {\n",
       "        vertical-align: middle;\n",
       "    }\n",
       "\n",
       "    .dataframe tbody tr th {\n",
       "        vertical-align: top;\n",
       "    }\n",
       "\n",
       "    .dataframe thead th {\n",
       "        text-align: right;\n",
       "    }\n",
       "</style>\n",
       "<table border=\"1\" class=\"dataframe\">\n",
       "  <thead>\n",
       "    <tr style=\"text-align: right;\">\n",
       "      <th></th>\n",
       "      <th>phase</th>\n",
       "      <th>died</th>\n",
       "    </tr>\n",
       "  </thead>\n",
       "  <tbody>\n",
       "    <tr>\n",
       "      <th>0</th>\n",
       "      <td>approach</td>\n",
       "      <td>5060</td>\n",
       "    </tr>\n",
       "    <tr>\n",
       "      <th>1</th>\n",
       "      <td>taxi</td>\n",
       "      <td>129</td>\n",
       "    </tr>\n",
       "    <tr>\n",
       "      <th>2</th>\n",
       "      <td>climb</td>\n",
       "      <td>2161</td>\n",
       "    </tr>\n",
       "    <tr>\n",
       "      <th>3</th>\n",
       "      <td>unknown</td>\n",
       "      <td>1110</td>\n",
       "    </tr>\n",
       "    <tr>\n",
       "      <th>4</th>\n",
       "      <td>other</td>\n",
       "      <td>122</td>\n",
       "    </tr>\n",
       "    <tr>\n",
       "      <th>5</th>\n",
       "      <td>takeoff</td>\n",
       "      <td>6051</td>\n",
       "    </tr>\n",
       "    <tr>\n",
       "      <th>6</th>\n",
       "      <td>maneuvering</td>\n",
       "      <td>7181</td>\n",
       "    </tr>\n",
       "    <tr>\n",
       "      <th>7</th>\n",
       "      <td>descent</td>\n",
       "      <td>1405</td>\n",
       "    </tr>\n",
       "    <tr>\n",
       "      <th>8</th>\n",
       "      <td>standing</td>\n",
       "      <td>248</td>\n",
       "    </tr>\n",
       "    <tr>\n",
       "      <th>9</th>\n",
       "      <td>landing</td>\n",
       "      <td>706</td>\n",
       "    </tr>\n",
       "    <tr>\n",
       "      <th>10</th>\n",
       "      <td>cruise</td>\n",
       "      <td>7474</td>\n",
       "    </tr>\n",
       "    <tr>\n",
       "      <th>11</th>\n",
       "      <td>go-around</td>\n",
       "      <td>866</td>\n",
       "    </tr>\n",
       "  </tbody>\n",
       "</table>\n",
       "</div>"
      ],
      "text/plain": [
       "          phase  died\n",
       "0      approach  5060\n",
       "1          taxi   129\n",
       "2         climb  2161\n",
       "3       unknown  1110\n",
       "4         other   122\n",
       "5       takeoff  6051\n",
       "6   maneuvering  7181\n",
       "7       descent  1405\n",
       "8      standing   248\n",
       "9       landing   706\n",
       "10       cruise  7474\n",
       "11    go-around   866"
      ]
     },
     "execution_count": 2,
     "metadata": {},
     "output_type": "execute_result"
    }
   ],
   "source": [
    "import pandas as pd\n",
    "\n",
    "phase_data = [ list(d) for d in spark_data ]\n",
    "phase_data = filter(lambda x: x[0]!='', phase_data)\n",
    "\n",
    "phase_data = pd.DataFrame(phase_data, columns=['phase','died'])\n",
    "phase_data"
   ]
  },
  {
   "cell_type": "code",
   "execution_count": 3,
   "metadata": {},
   "outputs": [
    {
     "data": {
      "application/javascript": [
       "var spec = {\"config\": {\"view\": {\"width\": 400, \"height\": 300}, \"mark\": {\"tooltip\": null}}, \"data\": {\"name\": \"data-ea7c0cc6bc52777cdd2341a4bd9ae854\"}, \"mark\": \"bar\", \"encoding\": {\"x\": {\"type\": \"ordinal\", \"field\": \"phase\", \"sort\": {\"field\": \"died\", \"order\": \"descending\"}}, \"y\": {\"type\": \"quantitative\", \"field\": \"died\"}}, \"height\": 500, \"width\": 500, \"$schema\": \"https://vega.github.io/schema/vega-lite/v3.2.1.json\", \"datasets\": {\"data-ea7c0cc6bc52777cdd2341a4bd9ae854\": [{\"phase\": \"approach\", \"died\": 5060}, {\"phase\": \"taxi\", \"died\": 129}, {\"phase\": \"climb\", \"died\": 2161}, {\"phase\": \"unknown\", \"died\": 1110}, {\"phase\": \"other\", \"died\": 122}, {\"phase\": \"takeoff\", \"died\": 6051}, {\"phase\": \"maneuvering\", \"died\": 7181}, {\"phase\": \"descent\", \"died\": 1405}, {\"phase\": \"standing\", \"died\": 248}, {\"phase\": \"landing\", \"died\": 706}, {\"phase\": \"cruise\", \"died\": 7474}, {\"phase\": \"go-around\", \"died\": 866}]}};\n",
       "var opt = {};\n",
       "var type = \"vega-lite\";\n",
       "var id = \"f5e3ea60-495c-4deb-8835-bfcf3363bff4\";\n",
       "\n",
       "var output_area = this;\n",
       "\n",
       "require([\"nbextensions/jupyter-vega/index\"], function(vega) {\n",
       "  var target = document.createElement(\"div\");\n",
       "  target.id = id;\n",
       "  target.className = \"vega-embed\";\n",
       "\n",
       "  var style = document.createElement(\"style\");\n",
       "  style.textContent = [\n",
       "    \".vega-embed .error p {\",\n",
       "    \"  color: firebrick;\",\n",
       "    \"  font-size: 14px;\",\n",
       "    \"}\",\n",
       "  ].join(\"\\\\n\");\n",
       "\n",
       "  // element is a jQuery wrapped DOM element inside the output area\n",
       "  // see http://ipython.readthedocs.io/en/stable/api/generated/\\\n",
       "  // IPython.display.html#IPython.display.Javascript.__init__\n",
       "  element[0].appendChild(target);\n",
       "  element[0].appendChild(style);\n",
       "\n",
       "  vega.render(\"#\" + id, spec, type, opt, output_area);\n",
       "}, function (err) {\n",
       "  if (err.requireType !== \"scripterror\") {\n",
       "    throw(err);\n",
       "  }\n",
       "});\n"
      ],
      "text/plain": [
       "<vega.vegalite.VegaLite at 0x7f91240f5ef0>"
      ]
     },
     "metadata": {
      "jupyter-vega": "#f5e3ea60-495c-4deb-8835-bfcf3363bff4"
     },
     "output_type": "display_data"
    },
    {
     "data": {
      "text/plain": []
     },
     "execution_count": 3,
     "metadata": {},
     "output_type": "execute_result"
    },
    {
     "data": {
      "image/png": "[encoded data removed]"
     },
     "metadata": {
      "jupyter-vega": "#f5e3ea60-495c-4deb-8835-bfcf3363bff4"
     },
     "output_type": "display_data"
    }
   ],
   "source": [
    "import altair as alt\n",
    "from vega_datasets import data\n",
    "\n",
    "alt.renderers.enable('notebook')\n",
    "\n",
    "chart = alt.Chart(phase_data,width=500, height=500).mark_bar().encode(\n",
    "    x=alt.X('phase:O', sort=alt.EncodingSortField(field=\"died\", order='descending')),\n",
    "    y='died:Q',\n",
    ")\n",
    "\n",
    "chart"
   ]
  }
 ],
 "metadata": {
  "kernelspec": {
   "display_name": "Python 3",
   "language": "python",
   "name": "python3"
  },
  "language_info": {
   "codemirror_mode": {
    "name": "ipython",
    "version": 3
   },
   "file_extension": ".py",
   "mimetype": "text/x-python",
   "name": "python",
   "nbconvert_exporter": "python",
   "pygments_lexer": "ipython3",
   "version": "3.6.7"
  }
 },
 "nbformat": 4,
 "nbformat_minor": 2
}
